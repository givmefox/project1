{
 "cells": [
  {
   "cell_type": "markdown",
   "id": "703bf1d5-815a-4f7a-881b-0808983c9e0b",
   "metadata": {},
   "source": [
    "# 가위바위보 만들기"
   ]
  },
  {
   "cell_type": "code",
   "execution_count": null,
   "id": "dd7f5cbb-af5e-4832-81d3-0f7bbff2d49f",
   "metadata": {},
   "outputs": [
    {
     "name": "stdin",
     "output_type": "stream",
     "text": [
      "'가위', '바위', '보'를 입력하세요. 종료하려면 '종료'입력 가위\n"
     ]
    },
    {
     "name": "stdout",
     "output_type": "stream",
     "text": [
      "컴퓨터 승!\n"
     ]
    },
    {
     "name": "stdin",
     "output_type": "stream",
     "text": [
      "'가위', '바위', '보'를 입력하세요. 종료하려면 '종료'입력 바위\n"
     ]
    },
    {
     "name": "stdout",
     "output_type": "stream",
     "text": [
      "컴퓨터 승!\n"
     ]
    },
    {
     "name": "stdin",
     "output_type": "stream",
     "text": [
      "'가위', '바위', '보'를 입력하세요. 종료하려면 '종료'입력 바위\n"
     ]
    },
    {
     "name": "stdout",
     "output_type": "stream",
     "text": [
      "비겼습니다\n"
     ]
    },
    {
     "name": "stdin",
     "output_type": "stream",
     "text": [
      "'가위', '바위', '보'를 입력하세요. 종료하려면 '종료'입력 바위\n"
     ]
    },
    {
     "name": "stdout",
     "output_type": "stream",
     "text": [
      "비겼습니다\n"
     ]
    },
    {
     "name": "stdin",
     "output_type": "stream",
     "text": [
      "'가위', '바위', '보'를 입력하세요. 종료하려면 '종료'입력 바위\n"
     ]
    },
    {
     "name": "stdout",
     "output_type": "stream",
     "text": [
      "컴퓨터 승!\n"
     ]
    },
    {
     "name": "stdin",
     "output_type": "stream",
     "text": [
      "'가위', '바위', '보'를 입력하세요. 종료하려면 '종료'입력 바위\n"
     ]
    },
    {
     "name": "stdout",
     "output_type": "stream",
     "text": [
      "user 승!\n"
     ]
    }
   ],
   "source": [
    "import random as rd\n",
    "\n",
    "while(1):\n",
    "    n = rd.randint(1,3)  #컴퓨터 가위,바위,보 랜덤 배정\n",
    "    if(n==1):    \n",
    "        comp = \"가위\"\n",
    "    elif(n==2):\n",
    "        comp = \"바위\"\n",
    "    elif(n==3):\n",
    "        comp = \"보\"\n",
    "    \n",
    "    user = input(\"'가위', '바위', '보'를 입력하세요. 종료하려면 '종료'입력\")\n",
    "    if(user == \"종료\"):\n",
    "            break\n",
    "    if(user in [\"가위\",\"바위\",\"보\"]): \n",
    "        if(user == comp):\n",
    "            print(\"비겼습니다\")\n",
    "        else:\n",
    "            if(user==\"가위\"):\n",
    "                if(comp ==\"바위\"):\n",
    "                    print(\"컴퓨터 승!\")\n",
    "                else:\n",
    "                    print(\"user 승!\")\n",
    "                       \n",
    "            elif(user==\"바위\"):\n",
    "                if(comp==\"보\"):\n",
    "                    print(\"컴퓨터 승!\")\n",
    "                else:\n",
    "                    print(\"user 승!\")\n",
    "                \n",
    "            elif(user==\"보\"):\n",
    "                if(comp==\"가위\"):\n",
    "                    print(\"컴퓨터 승!\")\n",
    "                else:\n",
    "                    print(\"user 승!\")\n",
    "    else:\n",
    "        print(\"'가위','바위','보'를 입력해주세요\")\n",
    "            \n",
    "    \n",
    "    \n",
    "          "
   ]
  },
  {
   "cell_type": "code",
   "execution_count": null,
   "id": "59e56177-9c24-4845-8d69-7947009e2cb0",
   "metadata": {},
   "outputs": [],
   "source": []
  }
 ],
 "metadata": {
  "kernelspec": {
   "display_name": "Python 3 (ipykernel)",
   "language": "python",
   "name": "python3"
  },
  "language_info": {
   "codemirror_mode": {
    "name": "ipython",
    "version": 3
   },
   "file_extension": ".py",
   "mimetype": "text/x-python",
   "name": "python",
   "nbconvert_exporter": "python",
   "pygments_lexer": "ipython3",
   "version": "3.12.1"
  }
 },
 "nbformat": 4,
 "nbformat_minor": 5
}
