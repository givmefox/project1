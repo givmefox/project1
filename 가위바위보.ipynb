{
 "cells": [
  {
   "cell_type": "markdown",
   "id": "703bf1d5-815a-4f7a-881b-0808983c9e0b",
   "metadata": {},
   "source": [
    "# 가위바위보 만들기"
   ]
  },
  {
   "cell_type": "code",
   "execution_count": null,
   "id": "dd7f5cbb-af5e-4832-81d3-0f7bbff2d49f",
   "metadata": {},
   "outputs": [],
   "source": [
    "import random as rd\n",
    "\n",
    "win_count = int(input(\"승리 횟수를 입력하세요:\"))   #승리횟수 입력\n",
    "\n",
    "com_win = win_count\n",
    "user_win = win_count\n",
    "\n",
    "while(1):\n",
    "    n = rd.randint(1,3)  #컴퓨터 가위,바위,보 랜덤 배정\n",
    "    if(n==1):    \n",
    "        comp = \"가위\"\n",
    "    elif(n==2):\n",
    "        comp = \"바위\"\n",
    "    elif(n==3):\n",
    "        comp = \"보\"\n",
    "    \n",
    "    user = input(\"'가위', '바위', '보'를 입력하세요. 종료하려면 '종료'입력\")\n",
    "    if(user == \"종료\"):\n",
    "            break\n",
    "    if(user in [\"가위\",\"바위\",\"보\"]): \n",
    "        if(user == comp):  \n",
    "            print(\"비겼습니다\")\n",
    "        else:\n",
    "            if(user==\"가위\"):\n",
    "                if(comp ==\"바위\"):\n",
    "                    print(\"컴퓨터 승!\")\n",
    "                    com_win = com_win-1\n",
    "                    \n",
    "                else:\n",
    "                    print(\"user 승!\")\n",
    "                    user_win=user_win-1\n",
    "                       \n",
    "            elif(user==\"바위\"):\n",
    "                if(comp==\"보\"):\n",
    "                    print(\"컴퓨터 승!\")\n",
    "                    user_win= com_win-1\n",
    "                else:\n",
    "                    print(\"user 승!\")\n",
    "                    win_count=user_win-1\n",
    "                \n",
    "            elif(user==\"보\"):\n",
    "                if(comp==\"가위\"):\n",
    "                    print(\"컴퓨터 승!\")\n",
    "                    com_win = com_win-1\n",
    "                else:\n",
    "                    print(\"user 승!\")\n",
    "                    user_win=user_win-1\n",
    "    else:\n",
    "        print(\"'가위','바위','보'를 입력해주세요\")  \n",
    "    if(user_win==0):    #승리횟수를 다 채우면 그만 하기\n",
    "        print(\"user 최종 승!\")\n",
    "        break\n",
    "    elif(com_win ==0):\n",
    "        print(\"컴퓨터 최종 승!\")\n",
    "        break"
   ]
  }
 ],
 "metadata": {
  "kernelspec": {
   "display_name": "Python 3 (ipykernel)",
   "language": "python",
   "name": "python3"
  },
  "language_info": {
   "codemirror_mode": {
    "name": "ipython",
    "version": 3
   },
   "file_extension": ".py",
   "mimetype": "text/x-python",
   "name": "python",
   "nbconvert_exporter": "python",
   "pygments_lexer": "ipython3",
   "version": "3.12.1"
  }
 },
 "nbformat": 4,
 "nbformat_minor": 5
}
