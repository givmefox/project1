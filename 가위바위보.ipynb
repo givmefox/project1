{
 "cells": [
  {
   "cell_type": "markdown",
   "id": "703bf1d5-815a-4f7a-881b-0808983c9e0b",
   "metadata": {},
   "source": [
    "# 가위바위보 만들기"
   ]
  },
  {
   "cell_type": "code",
   "execution_count": 3,
   "id": "dd7f5cbb-af5e-4832-81d3-0f7bbff2d49f",
   "metadata": {},
   "outputs": [
    {
     "name": "stdin",
     "output_type": "stream",
     "text": [
      "'가위', '바위', '보'를 입력하세요. 종료하려면 '종료'입력 -1\n",
      "'가위', '바위', '보'를 입력하세요. 종료하려면 '종료'입력 종료\n"
     ]
    }
   ],
   "source": [
    "import random as rd\n",
    "\n",
    "n = rd.randint(1,3)  #컴퓨터 가위,바위,보 랜덤 배정\n",
    "if(n==1):    \n",
    "    comp = \"가위\"\n",
    "elif(n==2):\n",
    "    comp = \"바위\"\n",
    "elif(n==3):\n",
    "    comp = \"보\"\n",
    "    \n",
    "while(1):\n",
    "    user = input(\"'가위', '바위', '보'를 입력하세요. 종료하려면 '종료'입력\")\n",
    "    if(user == \"종료\"):\n",
    "        break\n",
    "    if(user == comp):\n",
    "        print(\"비겼습니다\")\n",
    "    else:\n",
    "        if(user==\"가위\"):\n",
    "            if(comp ==\"바위\"):\n",
    "                print(\"컴퓨터 승!\")\n",
    "            else:\n",
    "                print(\"user 승!\")\n",
    "                   \n",
    "        elif(user==\"바위\"):\n",
    "            if(comp==\"보\"):\n",
    "                print(\"컴퓨터 승!\")\n",
    "            else:\n",
    "                print(\"user 승!\")\n",
    "            \n",
    "        elif(user==\"보\"):\n",
    "            if(comp==\"가위\"):\n",
    "                print(\"컴퓨터 승!\")\n",
    "            else:\n",
    "                print(\"user 승!\")\n",
    "            \n",
    "        \n",
    "\n",
    "\n",
    "      "
   ]
  },
  {
   "cell_type": "code",
   "execution_count": 22,
   "id": "939a14a6-fdd5-41ca-ab8e-5c912fe89f36",
   "metadata": {},
   "outputs": [
    {
     "data": {
      "text/plain": [
       "['__add__',\n",
       " '__class__',\n",
       " '__contains__',\n",
       " '__delattr__',\n",
       " '__dir__',\n",
       " '__doc__',\n",
       " '__eq__',\n",
       " '__format__',\n",
       " '__ge__',\n",
       " '__getattribute__',\n",
       " '__getitem__',\n",
       " '__getnewargs__',\n",
       " '__getstate__',\n",
       " '__gt__',\n",
       " '__hash__',\n",
       " '__init__',\n",
       " '__init_subclass__',\n",
       " '__iter__',\n",
       " '__le__',\n",
       " '__len__',\n",
       " '__lt__',\n",
       " '__mod__',\n",
       " '__mul__',\n",
       " '__ne__',\n",
       " '__new__',\n",
       " '__reduce__',\n",
       " '__reduce_ex__',\n",
       " '__repr__',\n",
       " '__rmod__',\n",
       " '__rmul__',\n",
       " '__setattr__',\n",
       " '__sizeof__',\n",
       " '__str__',\n",
       " '__subclasshook__',\n",
       " 'capitalize',\n",
       " 'casefold',\n",
       " 'center',\n",
       " 'count',\n",
       " 'encode',\n",
       " 'endswith',\n",
       " 'expandtabs',\n",
       " 'find',\n",
       " 'format',\n",
       " 'format_map',\n",
       " 'index',\n",
       " 'isalnum',\n",
       " 'isalpha',\n",
       " 'isascii',\n",
       " 'isdecimal',\n",
       " 'isdigit',\n",
       " 'isidentifier',\n",
       " 'islower',\n",
       " 'isnumeric',\n",
       " 'isprintable',\n",
       " 'isspace',\n",
       " 'istitle',\n",
       " 'isupper',\n",
       " 'join',\n",
       " 'ljust',\n",
       " 'lower',\n",
       " 'lstrip',\n",
       " 'maketrans',\n",
       " 'partition',\n",
       " 'removeprefix',\n",
       " 'removesuffix',\n",
       " 'replace',\n",
       " 'rfind',\n",
       " 'rindex',\n",
       " 'rjust',\n",
       " 'rpartition',\n",
       " 'rsplit',\n",
       " 'rstrip',\n",
       " 'split',\n",
       " 'splitlines',\n",
       " 'startswith',\n",
       " 'strip',\n",
       " 'swapcase',\n",
       " 'title',\n",
       " 'translate',\n",
       " 'upper',\n",
       " 'zfill']"
      ]
     },
     "execution_count": 22,
     "metadata": {},
     "output_type": "execute_result"
    }
   ],
   "source": [
    "dir(str)"
   ]
  },
  {
   "cell_type": "code",
   "execution_count": null,
   "id": "50f1eef1-fa47-4bfd-900e-7817e946f4e7",
   "metadata": {},
   "outputs": [],
   "source": []
  },
  {
   "cell_type": "code",
   "execution_count": null,
   "id": "58dcc962-5872-48a8-ab34-a075a95af4c3",
   "metadata": {},
   "outputs": [],
   "source": []
  },
  {
   "cell_type": "code",
   "execution_count": null,
   "id": "395ab07b-9136-4296-bf23-e258b103b358",
   "metadata": {},
   "outputs": [],
   "source": []
  }
 ],
 "metadata": {
  "kernelspec": {
   "display_name": "Python 3 (ipykernel)",
   "language": "python",
   "name": "python3"
  },
  "language_info": {
   "codemirror_mode": {
    "name": "ipython",
    "version": 3
   },
   "file_extension": ".py",
   "mimetype": "text/x-python",
   "name": "python",
   "nbconvert_exporter": "python",
   "pygments_lexer": "ipython3",
   "version": "3.12.1"
  }
 },
 "nbformat": 4,
 "nbformat_minor": 5
}
